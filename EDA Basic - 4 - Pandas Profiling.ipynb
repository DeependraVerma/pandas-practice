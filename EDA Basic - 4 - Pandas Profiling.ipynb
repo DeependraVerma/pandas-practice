{
 "cells": [
  {
   "cell_type": "code",
   "execution_count": 1,
   "id": "b0b48c33",
   "metadata": {},
   "outputs": [],
   "source": [
    "import pandas as pd\n",
    "import numpy as np\n",
    "import seaborn as sns\n",
    "import matplotlib.pyplot as plt"
   ]
  },
  {
   "cell_type": "code",
   "execution_count": 2,
   "id": "9a094e6f",
   "metadata": {},
   "outputs": [],
   "source": [
    "df = pd.read_csv(\"train.csv\")"
   ]
  },
  {
   "cell_type": "code",
   "execution_count": 3,
   "id": "6b0f6240",
   "metadata": {},
   "outputs": [
    {
     "name": "stdout",
     "output_type": "stream",
     "text": [
      "Defaulting to user installation because normal site-packages is not writeable\n",
      "Collecting pandas-profiling\n",
      "  Downloading pandas_profiling-3.2.0-py2.py3-none-any.whl (262 kB)\n",
      "     |████████████████████████████████| 262 kB 990 kB/s            \n",
      "\u001b[?25h  Downloading pandas_profiling-3.1.0-py2.py3-none-any.whl (261 kB)\n",
      "     |████████████████████████████████| 261 kB 6.7 MB/s            \n",
      "\u001b[?25hCollecting visions[type_image_path]==0.7.4\n",
      "  Downloading visions-0.7.4-py3-none-any.whl (102 kB)\n",
      "     |████████████████████████████████| 102 kB 4.3 MB/s            \n",
      "\u001b[?25hCollecting pydantic>=1.8.1\n",
      "  Downloading pydantic-1.9.2-cp36-cp36m-manylinux_2_17_x86_64.manylinux2014_x86_64.whl (11.2 MB)\n",
      "     |████████████████████████████████| 11.2 MB 4.2 MB/s            \n",
      "\u001b[?25hRequirement already satisfied: pandas!=1.0.0,!=1.0.1,!=1.0.2,!=1.1.0,>=0.25.3 in /home/deependra/.local/lib/python3.6/site-packages (from pandas-profiling) (1.1.5)\n",
      "Requirement already satisfied: jinja2>=2.11.1 in /home/deependra/.local/lib/python3.6/site-packages (from pandas-profiling) (3.0.3)\n",
      "Requirement already satisfied: markupsafe~=2.0.1 in /home/deependra/.local/lib/python3.6/site-packages (from pandas-profiling) (2.0.1)\n",
      "Requirement already satisfied: requests>=2.24.0 in /home/deependra/.local/lib/python3.6/site-packages (from pandas-profiling) (2.27.1)\n",
      "Collecting htmlmin>=0.1.12\n",
      "  Downloading htmlmin-0.1.12.tar.gz (19 kB)\n",
      "  Preparing metadata (setup.py) ... \u001b[?25ldone\n",
      "\u001b[?25hRequirement already satisfied: scipy>=1.4.1 in /home/deependra/.local/lib/python3.6/site-packages (from pandas-profiling) (1.5.4)\n",
      "Requirement already satisfied: numpy>=1.16.0 in /home/deependra/.local/lib/python3.6/site-packages (from pandas-profiling) (1.19.5)\n",
      "Collecting phik>=0.11.1\n",
      "  Downloading phik-0.12.0-cp36-cp36m-manylinux2010_x86_64.whl (675 kB)\n",
      "     |████████████████████████████████| 675 kB 6.4 MB/s            \n",
      "\u001b[?25hCollecting missingno>=0.4.2\n",
      "  Downloading missingno-0.5.2-py3-none-any.whl (8.7 kB)\n",
      "Collecting tangled-up-in-unicode==0.1.0\n",
      "  Downloading tangled_up_in_unicode-0.1.0-py3-none-any.whl (3.1 MB)\n",
      "     |████████████████████████████████| 3.1 MB 12.7 MB/s            \n",
      "\u001b[?25hRequirement already satisfied: seaborn>=0.10.1 in /home/deependra/.local/lib/python3.6/site-packages (from pandas-profiling) (0.11.2)\n",
      "Requirement already satisfied: matplotlib>=3.2.0 in /home/deependra/.local/lib/python3.6/site-packages (from pandas-profiling) (3.3.4)\n",
      "Collecting tqdm>=4.48.2\n",
      "  Downloading tqdm-4.64.1-py2.py3-none-any.whl (78 kB)\n",
      "     |████████████████████████████████| 78 kB 5.9 MB/s             \n",
      "\u001b[?25hCollecting joblib~=1.0.1\n",
      "  Downloading joblib-1.0.1-py3-none-any.whl (303 kB)\n",
      "     |████████████████████████████████| 303 kB 10.0 MB/s            \n",
      "\u001b[?25hCollecting multimethod>=1.4\n",
      "  Downloading multimethod-1.5-py3-none-any.whl (7.7 kB)\n",
      "Collecting PyYAML>=5.0.0\n",
      "  Using cached PyYAML-6.0-cp36-cp36m-manylinux_2_5_x86_64.manylinux1_x86_64.manylinux_2_12_x86_64.manylinux2010_x86_64.whl (603 kB)\n",
      "Requirement already satisfied: attrs>=19.3.0 in /home/deependra/.local/lib/python3.6/site-packages (from visions[type_image_path]==0.7.4->pandas-profiling) (22.2.0)\n",
      "Collecting networkx>=2.4\n",
      "  Downloading networkx-2.5.1-py3-none-any.whl (1.6 MB)\n",
      "     |████████████████████████████████| 1.6 MB 11.4 MB/s            \n",
      "\u001b[?25hRequirement already satisfied: Pillow in /home/deependra/.local/lib/python3.6/site-packages (from visions[type_image_path]==0.7.4->pandas-profiling) (8.4.0)\n",
      "Collecting imagehash\n",
      "  Downloading ImageHash-4.3.1-py2.py3-none-any.whl (296 kB)\n",
      "     |████████████████████████████████| 296 kB 8.9 MB/s            \n",
      "\u001b[?25hRequirement already satisfied: kiwisolver>=1.0.1 in /home/deependra/.local/lib/python3.6/site-packages (from matplotlib>=3.2.0->pandas-profiling) (1.3.1)\n",
      "Requirement already satisfied: pyparsing!=2.0.4,!=2.1.2,!=2.1.6,>=2.0.3 in /home/deependra/.local/lib/python3.6/site-packages (from matplotlib>=3.2.0->pandas-profiling) (3.0.9)\n",
      "Requirement already satisfied: cycler>=0.10 in /home/deependra/.local/lib/python3.6/site-packages (from matplotlib>=3.2.0->pandas-profiling) (0.11.0)\n",
      "Requirement already satisfied: python-dateutil>=2.1 in /home/deependra/.local/lib/python3.6/site-packages (from matplotlib>=3.2.0->pandas-profiling) (2.8.2)\n",
      "Requirement already satisfied: pytz>=2017.2 in /home/deependra/.local/lib/python3.6/site-packages (from pandas!=1.0.0,!=1.0.1,!=1.0.2,!=1.1.0,>=0.25.3->pandas-profiling) (2022.7.1)\n",
      "Requirement already satisfied: typing-extensions>=3.7.4.3 in /usr/local/lib/python3.6/dist-packages (from pydantic>=1.8.1->pandas-profiling) (4.1.1)\n",
      "Requirement already satisfied: dataclasses>=0.6 in /home/deependra/.local/lib/python3.6/site-packages (from pydantic>=1.8.1->pandas-profiling) (0.8)\n",
      "Requirement already satisfied: urllib3<1.27,>=1.21.1 in /home/deependra/.local/lib/python3.6/site-packages (from requests>=2.24.0->pandas-profiling) (1.26.9)\n",
      "Requirement already satisfied: charset-normalizer~=2.0.0 in /home/deependra/.local/lib/python3.6/site-packages (from requests>=2.24.0->pandas-profiling) (2.0.12)\n",
      "Requirement already satisfied: idna<4,>=2.5 in /home/deependra/.local/lib/python3.6/site-packages (from requests>=2.24.0->pandas-profiling) (3.3)\n",
      "Requirement already satisfied: certifi>=2017.4.17 in /home/deependra/.local/lib/python3.6/site-packages (from requests>=2.24.0->pandas-profiling) (2021.10.8)\n",
      "Requirement already satisfied: importlib-resources in /usr/local/lib/python3.6/dist-packages (from tqdm>=4.48.2->pandas-profiling) (5.4.0)\n",
      "Collecting decorator<5,>=4.3\n",
      "  Downloading decorator-4.4.2-py2.py3-none-any.whl (9.2 kB)\n",
      "Requirement already satisfied: six>=1.5 in /home/deependra/.local/lib/python3.6/site-packages (from python-dateutil>=2.1->matplotlib>=3.2.0->pandas-profiling) (1.16.0)\n",
      "Collecting PyWavelets\n",
      "  Downloading PyWavelets-1.1.1-cp36-cp36m-manylinux1_x86_64.whl (4.4 MB)\n",
      "     |████████████████████████████████| 4.4 MB 12.0 MB/s            \n",
      "\u001b[?25hRequirement already satisfied: zipp>=3.1.0 in /usr/local/lib/python3.6/dist-packages (from importlib-resources->tqdm>=4.48.2->pandas-profiling) (3.6.0)\n",
      "Building wheels for collected packages: htmlmin\n",
      "  Building wheel for htmlmin (setup.py) ... \u001b[?25ldone\n",
      "\u001b[?25h  Created wheel for htmlmin: filename=htmlmin-0.1.12-py3-none-any.whl size=27183 sha256=0470d1931a962ee4d191c812efac9e1b295a5a54cac79013453fa6748e4b6757\n",
      "  Stored in directory: /home/deependra/.cache/pip/wheels/c3/fe/0b/4450b38bceb9ae43dd7d0f16e353566f30f5f4d59a58eca2ed\n",
      "Successfully built htmlmin\n",
      "Installing collected packages: decorator, tangled-up-in-unicode, PyWavelets, networkx, multimethod, visions, joblib, imagehash, tqdm, PyYAML, pydantic, phik, missingno, htmlmin, pandas-profiling\n",
      "  Attempting uninstall: joblib\n",
      "    Found existing installation: joblib 1.1.1\n",
      "    Uninstalling joblib-1.1.1:\n",
      "      Successfully uninstalled joblib-1.1.1\n",
      "Successfully installed PyWavelets-1.1.1 PyYAML-6.0 decorator-4.4.2 htmlmin-0.1.12 imagehash-4.3.1 joblib-1.0.1 missingno-0.5.2 multimethod-1.5 networkx-2.5.1 pandas-profiling-3.1.0 phik-0.12.0 pydantic-1.9.2 tangled-up-in-unicode-0.1.0 tqdm-4.64.1 visions-0.7.4\n",
      "Note: you may need to restart the kernel to use updated packages.\n"
     ]
    }
   ],
   "source": [
    "pip install pandas-profiling"
   ]
  },
  {
   "cell_type": "code",
   "execution_count": null,
   "id": "e8b1e89f",
   "metadata": {},
   "outputs": [
    {
     "data": {
      "application/vnd.jupyter.widget-view+json": {
       "model_id": "17da0524dcb74a258b515a6feb899719",
       "version_major": 2,
       "version_minor": 0
      },
      "text/plain": [
       "Summarize dataset:   0%|          | 0/5 [00:00<?, ?it/s]"
      ]
     },
     "metadata": {},
     "output_type": "display_data"
    },
    {
     "name": "stderr",
     "output_type": "stream",
     "text": [
      "/home/deependra/.local/lib/python3.6/site-packages/pandas/core/strings.py:1541: FutureWarning: split() requires a non-empty pattern match.\n",
      "  f = lambda x: regex.split(x, maxsplit=n)\n",
      "/home/deependra/.local/lib/python3.6/site-packages/pandas/core/strings.py:1541: FutureWarning: split() requires a non-empty pattern match.\n",
      "  f = lambda x: regex.split(x, maxsplit=n)\n",
      "/home/deependra/.local/lib/python3.6/site-packages/pandas/core/strings.py:1541: FutureWarning: split() requires a non-empty pattern match.\n",
      "  f = lambda x: regex.split(x, maxsplit=n)\n",
      "/home/deependra/.local/lib/python3.6/site-packages/pandas/core/strings.py:1541: FutureWarning: split() requires a non-empty pattern match.\n",
      "  f = lambda x: regex.split(x, maxsplit=n)\n",
      "/home/deependra/.local/lib/python3.6/site-packages/pandas/core/strings.py:1541: FutureWarning: split() requires a non-empty pattern match.\n",
      "  f = lambda x: regex.split(x, maxsplit=n)\n",
      "/home/deependra/.local/lib/python3.6/site-packages/pandas/core/strings.py:1541: FutureWarning: split() requires a non-empty pattern match.\n",
      "  f = lambda x: regex.split(x, maxsplit=n)\n",
      "/home/deependra/.local/lib/python3.6/site-packages/pandas/core/strings.py:1541: FutureWarning: split() requires a non-empty pattern match.\n",
      "  f = lambda x: regex.split(x, maxsplit=n)\n",
      "/home/deependra/.local/lib/python3.6/site-packages/pandas/core/strings.py:1541: FutureWarning: split() requires a non-empty pattern match.\n",
      "  f = lambda x: regex.split(x, maxsplit=n)\n",
      "/home/deependra/.local/lib/python3.6/site-packages/pandas/core/strings.py:1541: FutureWarning: split() requires a non-empty pattern match.\n",
      "  f = lambda x: regex.split(x, maxsplit=n)\n"
     ]
    },
    {
     "data": {
      "application/vnd.jupyter.widget-view+json": {
       "model_id": "0442160ac4774ef0a8d6c7b84f700947",
       "version_major": 2,
       "version_minor": 0
      },
      "text/plain": [
       "Generate report structure:   0%|          | 0/1 [00:00<?, ?it/s]"
      ]
     },
     "metadata": {},
     "output_type": "display_data"
    }
   ],
   "source": [
    "from pandas_profiling import ProfileReport\n",
    "prof = ProfileReport(df)\n",
    "prof.to_file(output_file=\"titanic_profile.html\")"
   ]
  },
  {
   "cell_type": "code",
   "execution_count": null,
   "id": "8f5d6425",
   "metadata": {},
   "outputs": [],
   "source": []
  }
 ],
 "metadata": {
  "kernelspec": {
   "display_name": "Python 3",
   "language": "python",
   "name": "python3"
  },
  "language_info": {
   "codemirror_mode": {
    "name": "ipython",
    "version": 3
   },
   "file_extension": ".py",
   "mimetype": "text/x-python",
   "name": "python",
   "nbconvert_exporter": "python",
   "pygments_lexer": "ipython3",
   "version": "3.6.9"
  }
 },
 "nbformat": 4,
 "nbformat_minor": 5
}
